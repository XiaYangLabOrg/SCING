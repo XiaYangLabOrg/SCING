{
 "cells": [
  {
   "cell_type": "markdown",
   "id": "932f048a",
   "metadata": {},
   "source": [
    "# SCING Network Inference\n",
    "This tutorial is optimized for building a SCING network on one cell type. SCING performs cell aggregation for averaged expression (supercells), bootstrapping and gradient boosting for intermediate GRN inference, and merging for aggregating consistent and robust edges across intermediate GRNs.\n",
    "\n",
    "For workflows that build networks on multiple cell types in parallel, please refer to the <a href=\"#\"> tutorial for multiple cell types</a>, which packages this notebook into scripts to be run on the command line or SGE high performce computing cluster."
   ]
  },
  {
   "cell_type": "code",
   "execution_count": 1,
   "id": "6570206d",
   "metadata": {},
   "outputs": [],
   "source": [
    "import os\n",
    "import warnings\n",
    "import scanpy as sc\n",
    "from scing import supercells, build, merge\n",
    "import numpy as np"
   ]
  },
  {
   "cell_type": "code",
   "execution_count": 2,
   "id": "b9c60f6c",
   "metadata": {},
   "outputs": [],
   "source": [
    "# Set number of threads to use\n",
    "nthreads = 12\n",
    "os.environ[\"MKL_NUM_THREADS\"] = str(nthreads)\n",
    "os.environ[\"NUMEXPR_NUM_THREADS\"] = str(nthreads)\n",
    "os.environ[\"OMP_NUM_THREADS\"] = str(nthreads)\n",
    "# filter warnings\n",
    "warnings.filterwarnings(\"ignore\")"
   ]
  },
  {
   "cell_type": "code",
   "execution_count": 3,
   "id": "8c794ceb",
   "metadata": {},
   "outputs": [],
   "source": [
    "adata = sc.read_h5ad('../data/microglia.h5ad')"
   ]
  },
  {
   "cell_type": "code",
   "execution_count": 4,
   "id": "5e0fb002",
   "metadata": {},
   "outputs": [
    {
     "data": {
      "text/plain": [
       "AnnData object with n_obs × n_vars = 4126 × 10159\n",
       "    obs: 'Barcode', 'SampleID', 'Diagnosis', 'Batch', 'Cell.Type', 'cluster', 'Age', 'Sex', 'PMI', 'Tangle.Stage', 'Plaque.Stage', 'RIN'\n",
       "    var: 'gene_ids', 'feature_types', 'genome'"
      ]
     },
     "execution_count": 4,
     "metadata": {},
     "output_type": "execute_result"
    }
   ],
   "source": [
    "adata"
   ]
  },
  {
   "cell_type": "markdown",
   "id": "6e5aad41",
   "metadata": {},
   "source": [
    "## Supercells\n",
    "This step performs scanpy preprocessing and leiden clustering on each individual cell type. Genes in the cells within a subcluster are averaged to mitigate gene sparsity.\n",
    "- `ngenes`: number of highly variable genes to use to determine subclusters\n",
    "- `npcs`: number of PCs for preprocessing\n",
    "- `ncell`: number of supercells to generate\n",
    "\n",
    "Note:  In this tutorial, we only have microglia, so we can supercell the entire file. For datasets with multiple cell types, run the supercell pipeline on the cell type-subsetted adata."
   ]
  },
  {
   "cell_type": "code",
   "execution_count": 5,
   "id": "c9343ed1",
   "metadata": {},
   "outputs": [
    {
     "name": "stdout",
     "output_type": "stream",
     "text": [
      "preprocessing data...\n",
      "finding optimal resolution...\n",
      "There are  496  supercells\n",
      "merging cells...\n"
     ]
    }
   ],
   "source": [
    "adata_merged = supercells.supercell_pipeline(adata,\n",
    "                                ngenes=2000,\n",
    "                                npcs=20,\n",
    "                                ncell=500,\n",
    "                                verbose=True)"
   ]
  },
  {
   "cell_type": "markdown",
   "id": "3ee46799",
   "metadata": {},
   "source": [
    "We will subset our supercells to 2000 random genes for the sake of computation in this tutorial. On your own dataset, keep all genes."
   ]
  },
  {
   "cell_type": "code",
   "execution_count": 6,
   "id": "e73bda73",
   "metadata": {},
   "outputs": [],
   "source": [
    "# limit genes to 2000 random genes\n",
    "# this is to speed up computation for the example\n",
    "np.random.seed(0)\n",
    "adata_merged = adata_merged[:,np.random.choice(np.arange(adata_merged.shape[1]),\n",
    "                                       2000,\n",
    "                                       replace=False)]"
   ]
  },
  {
   "cell_type": "code",
   "execution_count": 7,
   "id": "4cbfdd68",
   "metadata": {},
   "outputs": [
    {
     "data": {
      "text/plain": [
       "View of AnnData object with n_obs × n_vars = 496 × 2000\n",
       "    var: 'gene_ids', 'feature_types', 'genome', 'highly_variable', 'means', 'dispersions', 'dispersions_norm'"
      ]
     },
     "execution_count": 7,
     "metadata": {},
     "output_type": "execute_result"
    }
   ],
   "source": [
    "adata_merged"
   ]
  },
  {
   "cell_type": "markdown",
   "id": "075062f2",
   "metadata": {},
   "source": [
    "# Build Intermediate Networks\n",
    "This step builds intermediate networks through bootstrap subsampling and gradient boosting. The grnBuilder class takes the following arguments:\n",
    "- `adata`: supercell adata object\n",
    "- `ngenes`: number of highly variable genes to build network on. -1 means use all genes.\n",
    "- `nneighbors`: number of nearest neighbor (KNN) gene predictor features for each target gene. These feature genes are used to train a gradient boosting regressor to predict target gene expression.\n",
    "- `npcs`: number of PCs: number of PCs to use for KNN calculation\n",
    "- `subsample_perc`: percentage of supercells to subsample for each bootstrap run.\n",
    "- `prefix`: output prefix\n",
    "- `outdir`: output directory (the networks will be saved as `{outdir}/{prefix}.csv.gz`)\n",
    "- `ncore`: number of cores for multiprocessing\n",
    "- `mem_per_core`: memory per core"
   ]
  },
  {
   "cell_type": "code",
   "execution_count": 8,
   "id": "b227b928",
   "metadata": {},
   "outputs": [
    {
     "name": "stdout",
     "output_type": "stream",
     "text": [
      "0\n"
     ]
    },
    {
     "name": "stdout",
     "output_type": "stream",
     "text": [
      "building local cluster\n"
     ]
    },
    {
     "name": "stderr",
     "output_type": "stream",
     "text": [
      "Numba: Attempted to fork from a non-main thread, the TBB library may be in an invalid state in the child process.\n",
      "Numba: Attempted to fork from a non-main thread, the TBB library may be in an invalid state in the child process.\n",
      "Numba: Attempted to fork from a non-main thread, the TBB library may be in an invalid state in the child process.\n",
      "Numba: Attempted to fork from a non-main thread, the TBB library may be in an invalid state in the child process.\n",
      "Numba: Attempted to fork from a non-main thread, the TBB library may be in an invalid state in the child process.\n",
      "Numba: Attempted to fork from a non-main thread, the TBB library may be in an invalid state in the child process.\n",
      "Numba: Attempted to fork from a non-main thread, the TBB library may be in an invalid state in the child process.\n",
      "Numba: Attempted to fork from a non-main thread, the TBB library may be in an invalid state in the child process.\n",
      "Numba: Attempted to fork from a non-main thread, the TBB library may be in an invalid state in the child process.\n",
      "Numba: Attempted to fork from a non-main thread, the TBB library may be in an invalid state in the child process.\n",
      "Numba: Attempted to fork from a non-main thread, the TBB library may be in an invalid state in the child process.\n",
      "Numba: Attempted to fork from a non-main thread, the TBB library may be in an invalid state in the child process.\n",
      "Numba: Attempted to fork from a non-main thread, the TBB library may be in an invalid state in the child process.\n"
     ]
    },
    {
     "name": "stdout",
     "output_type": "stream",
     "text": [
      "Loading data into memory...\n",
      "Building dask graph...\n",
      "Computing dask graph...\n",
      "Closing client...\n",
      "Saving file in ../temp_data/intermediate_networks/net.0.csv.gz\n",
      "1\n",
      "building local cluster\n"
     ]
    },
    {
     "name": "stderr",
     "output_type": "stream",
     "text": [
      "Numba: Attempted to fork from a non-main thread, the TBB library may be in an invalid state in the child process.\n",
      "Numba: Attempted to fork from a non-main thread, the TBB library may be in an invalid state in the child process.\n",
      "Numba: Attempted to fork from a non-main thread, the TBB library may be in an invalid state in the child process.\n",
      "Numba: Attempted to fork from a non-main thread, the TBB library may be in an invalid state in the child process.\n",
      "Numba: Attempted to fork from a non-main thread, the TBB library may be in an invalid state in the child process.\n",
      "Numba: Attempted to fork from a non-main thread, the TBB library may be in an invalid state in the child process.\n",
      "Numba: Attempted to fork from a non-main thread, the TBB library may be in an invalid state in the child process.\n",
      "Numba: Attempted to fork from a non-main thread, the TBB library may be in an invalid state in the child process.\n",
      "Numba: Attempted to fork from a non-main thread, the TBB library may be in an invalid state in the child process.\n",
      "Numba: Attempted to fork from a non-main thread, the TBB library may be in an invalid state in the child process.\n",
      "Numba: Attempted to fork from a non-main thread, the TBB library may be in an invalid state in the child process.\n",
      "Numba: Attempted to fork from a non-main thread, the TBB library may be in an invalid state in the child process.\n"
     ]
    },
    {
     "name": "stdout",
     "output_type": "stream",
     "text": [
      "Loading data into memory...\n",
      "Building dask graph...\n",
      "Computing dask graph...\n",
      "Closing client...\n",
      "Saving file in ../temp_data/intermediate_networks/net.1.csv.gz\n",
      "2\n",
      "building local cluster\n"
     ]
    },
    {
     "name": "stderr",
     "output_type": "stream",
     "text": [
      "Numba: Attempted to fork from a non-main thread, the TBB library may be in an invalid state in the child process.\n",
      "Numba: Attempted to fork from a non-main thread, the TBB library may be in an invalid state in the child process.\n",
      "Numba: Attempted to fork from a non-main thread, the TBB library may be in an invalid state in the child process.\n",
      "Numba: Attempted to fork from a non-main thread, the TBB library may be in an invalid state in the child process.\n",
      "Numba: Attempted to fork from a non-main thread, the TBB library may be in an invalid state in the child process.\n",
      "Numba: Attempted to fork from a non-main thread, the TBB library may be in an invalid state in the child process.\n",
      "Numba: Attempted to fork from a non-main thread, the TBB library may be in an invalid state in the child process.\n",
      "Numba: Attempted to fork from a non-main thread, the TBB library may be in an invalid state in the child process.\n",
      "Numba: Attempted to fork from a non-main thread, the TBB library may be in an invalid state in the child process.\n",
      "Numba: Attempted to fork from a non-main thread, the TBB library may be in an invalid state in the child process.\n",
      "Numba: Attempted to fork from a non-main thread, the TBB library may be in an invalid state in the child process.\n",
      "Numba: Attempted to fork from a non-main thread, the TBB library may be in an invalid state in the child process.\n"
     ]
    },
    {
     "name": "stdout",
     "output_type": "stream",
     "text": [
      "Loading data into memory...\n",
      "Building dask graph...\n",
      "Computing dask graph...\n",
      "Closing client...\n",
      "Saving file in ../temp_data/intermediate_networks/net.2.csv.gz\n",
      "3\n",
      "building local cluster\n"
     ]
    },
    {
     "name": "stderr",
     "output_type": "stream",
     "text": [
      "Numba: Attempted to fork from a non-main thread, the TBB library may be in an invalid state in the child process.\n",
      "Numba: Attempted to fork from a non-main thread, the TBB library may be in an invalid state in the child process.\n",
      "Numba: Attempted to fork from a non-main thread, the TBB library may be in an invalid state in the child process.\n",
      "Numba: Attempted to fork from a non-main thread, the TBB library may be in an invalid state in the child process.\n",
      "Numba: Attempted to fork from a non-main thread, the TBB library may be in an invalid state in the child process.\n",
      "Numba: Attempted to fork from a non-main thread, the TBB library may be in an invalid state in the child process.\n",
      "Numba: Attempted to fork from a non-main thread, the TBB library may be in an invalid state in the child process.\n",
      "Numba: Attempted to fork from a non-main thread, the TBB library may be in an invalid state in the child process.\n",
      "Numba: Attempted to fork from a non-main thread, the TBB library may be in an invalid state in the child process.\n",
      "Numba: Attempted to fork from a non-main thread, the TBB library may be in an invalid state in the child process.\n",
      "Numba: Attempted to fork from a non-main thread, the TBB library may be in an invalid state in the child process.\n",
      "Numba: Attempted to fork from a non-main thread, the TBB library may be in an invalid state in the child process.\n"
     ]
    },
    {
     "name": "stdout",
     "output_type": "stream",
     "text": [
      "Loading data into memory...\n",
      "Building dask graph...\n",
      "Computing dask graph...\n",
      "Closing client...\n",
      "Saving file in ../temp_data/intermediate_networks/net.3.csv.gz\n",
      "4\n",
      "building local cluster\n"
     ]
    },
    {
     "name": "stderr",
     "output_type": "stream",
     "text": [
      "Numba: Attempted to fork from a non-main thread, the TBB library may be in an invalid state in the child process.\n",
      "Numba: Attempted to fork from a non-main thread, the TBB library may be in an invalid state in the child process.\n",
      "Numba: Attempted to fork from a non-main thread, the TBB library may be in an invalid state in the child process.\n",
      "Numba: Attempted to fork from a non-main thread, the TBB library may be in an invalid state in the child process.\n",
      "Numba: Attempted to fork from a non-main thread, the TBB library may be in an invalid state in the child process.\n",
      "Numba: Attempted to fork from a non-main thread, the TBB library may be in an invalid state in the child process.\n",
      "Numba: Attempted to fork from a non-main thread, the TBB library may be in an invalid state in the child process.\n",
      "Numba: Attempted to fork from a non-main thread, the TBB library may be in an invalid state in the child process.\n",
      "Numba: Attempted to fork from a non-main thread, the TBB library may be in an invalid state in the child process.\n",
      "Numba: Attempted to fork from a non-main thread, the TBB library may be in an invalid state in the child process.\n",
      "Numba: Attempted to fork from a non-main thread, the TBB library may be in an invalid state in the child process.\n",
      "Numba: Attempted to fork from a non-main thread, the TBB library may be in an invalid state in the child process.\n"
     ]
    },
    {
     "name": "stdout",
     "output_type": "stream",
     "text": [
      "Loading data into memory...\n",
      "Building dask graph...\n",
      "Computing dask graph...\n",
      "Closing client...\n",
      "Saving file in ../temp_data/intermediate_networks/net.4.csv.gz\n",
      "5\n",
      "building local cluster\n"
     ]
    },
    {
     "name": "stderr",
     "output_type": "stream",
     "text": [
      "Numba: Attempted to fork from a non-main thread, the TBB library may be in an invalid state in the child process.\n",
      "Numba: Attempted to fork from a non-main thread, the TBB library may be in an invalid state in the child process.\n",
      "Numba: Attempted to fork from a non-main thread, the TBB library may be in an invalid state in the child process.\n",
      "Numba: Attempted to fork from a non-main thread, the TBB library may be in an invalid state in the child process.\n",
      "Numba: Attempted to fork from a non-main thread, the TBB library may be in an invalid state in the child process.\n",
      "Numba: Attempted to fork from a non-main thread, the TBB library may be in an invalid state in the child process.\n",
      "Numba: Attempted to fork from a non-main thread, the TBB library may be in an invalid state in the child process.\n",
      "Numba: Attempted to fork from a non-main thread, the TBB library may be in an invalid state in the child process.\n",
      "Numba: Attempted to fork from a non-main thread, the TBB library may be in an invalid state in the child process.\n",
      "Numba: Attempted to fork from a non-main thread, the TBB library may be in an invalid state in the child process.\n",
      "Numba: Attempted to fork from a non-main thread, the TBB library may be in an invalid state in the child process.\n",
      "Numba: Attempted to fork from a non-main thread, the TBB library may be in an invalid state in the child process.\n"
     ]
    },
    {
     "name": "stdout",
     "output_type": "stream",
     "text": [
      "Loading data into memory...\n",
      "Building dask graph...\n",
      "Computing dask graph...\n",
      "Closing client...\n",
      "Saving file in ../temp_data/intermediate_networks/net.5.csv.gz\n",
      "6\n",
      "building local cluster\n"
     ]
    },
    {
     "name": "stderr",
     "output_type": "stream",
     "text": [
      "Numba: Attempted to fork from a non-main thread, the TBB library may be in an invalid state in the child process.\n",
      "Numba: Attempted to fork from a non-main thread, the TBB library may be in an invalid state in the child process.\n",
      "Numba: Attempted to fork from a non-main thread, the TBB library may be in an invalid state in the child process.\n",
      "Numba: Attempted to fork from a non-main thread, the TBB library may be in an invalid state in the child process.\n",
      "Numba: Attempted to fork from a non-main thread, the TBB library may be in an invalid state in the child process.\n",
      "Numba: Attempted to fork from a non-main thread, the TBB library may be in an invalid state in the child process.\n",
      "Numba: Attempted to fork from a non-main thread, the TBB library may be in an invalid state in the child process.\n",
      "Numba: Attempted to fork from a non-main thread, the TBB library may be in an invalid state in the child process.\n",
      "Numba: Attempted to fork from a non-main thread, the TBB library may be in an invalid state in the child process.\n",
      "Numba: Attempted to fork from a non-main thread, the TBB library may be in an invalid state in the child process.\n",
      "Numba: Attempted to fork from a non-main thread, the TBB library may be in an invalid state in the child process.\n",
      "Numba: Attempted to fork from a non-main thread, the TBB library may be in an invalid state in the child process.\n"
     ]
    },
    {
     "name": "stdout",
     "output_type": "stream",
     "text": [
      "Loading data into memory...\n",
      "Building dask graph...\n",
      "Computing dask graph...\n",
      "Closing client...\n",
      "Saving file in ../temp_data/intermediate_networks/net.6.csv.gz\n",
      "7\n",
      "building local cluster\n"
     ]
    },
    {
     "name": "stderr",
     "output_type": "stream",
     "text": [
      "Numba: Attempted to fork from a non-main thread, the TBB library may be in an invalid state in the child process.\n",
      "Numba: Attempted to fork from a non-main thread, the TBB library may be in an invalid state in the child process.\n",
      "Numba: Attempted to fork from a non-main thread, the TBB library may be in an invalid state in the child process.\n",
      "Numba: Attempted to fork from a non-main thread, the TBB library may be in an invalid state in the child process.\n",
      "Numba: Attempted to fork from a non-main thread, the TBB library may be in an invalid state in the child process.\n",
      "Numba: Attempted to fork from a non-main thread, the TBB library may be in an invalid state in the child process.\n",
      "Numba: Attempted to fork from a non-main thread, the TBB library may be in an invalid state in the child process.\n",
      "Numba: Attempted to fork from a non-main thread, the TBB library may be in an invalid state in the child process.\n",
      "Numba: Attempted to fork from a non-main thread, the TBB library may be in an invalid state in the child process.\n",
      "Numba: Attempted to fork from a non-main thread, the TBB library may be in an invalid state in the child process.\n",
      "Numba: Attempted to fork from a non-main thread, the TBB library may be in an invalid state in the child process.\n",
      "Numba: Attempted to fork from a non-main thread, the TBB library may be in an invalid state in the child process.\n"
     ]
    },
    {
     "name": "stdout",
     "output_type": "stream",
     "text": [
      "Loading data into memory...\n",
      "Building dask graph...\n",
      "Computing dask graph...\n",
      "Closing client...\n",
      "Saving file in ../temp_data/intermediate_networks/net.7.csv.gz\n",
      "8\n",
      "building local cluster\n"
     ]
    },
    {
     "name": "stderr",
     "output_type": "stream",
     "text": [
      "Numba: Attempted to fork from a non-main thread, the TBB library may be in an invalid state in the child process.\n",
      "Numba: Attempted to fork from a non-main thread, the TBB library may be in an invalid state in the child process.\n",
      "Numba: Attempted to fork from a non-main thread, the TBB library may be in an invalid state in the child process.\n",
      "Numba: Attempted to fork from a non-main thread, the TBB library may be in an invalid state in the child process.\n",
      "Numba: Attempted to fork from a non-main thread, the TBB library may be in an invalid state in the child process.\n",
      "Numba: Attempted to fork from a non-main thread, the TBB library may be in an invalid state in the child process.\n",
      "Numba: Attempted to fork from a non-main thread, the TBB library may be in an invalid state in the child process.\n",
      "Numba: Attempted to fork from a non-main thread, the TBB library may be in an invalid state in the child process.\n",
      "Numba: Attempted to fork from a non-main thread, the TBB library may be in an invalid state in the child process.\n",
      "Numba: Attempted to fork from a non-main thread, the TBB library may be in an invalid state in the child process.\n",
      "Numba: Attempted to fork from a non-main thread, the TBB library may be in an invalid state in the child process.\n",
      "Numba: Attempted to fork from a non-main thread, the TBB library may be in an invalid state in the child process.\n"
     ]
    },
    {
     "name": "stdout",
     "output_type": "stream",
     "text": [
      "Loading data into memory...\n",
      "Building dask graph...\n",
      "Computing dask graph...\n",
      "Closing client...\n",
      "Saving file in ../temp_data/intermediate_networks/net.8.csv.gz\n",
      "9\n",
      "building local cluster\n"
     ]
    },
    {
     "name": "stderr",
     "output_type": "stream",
     "text": [
      "Numba: Attempted to fork from a non-main thread, the TBB library may be in an invalid state in the child process.\n",
      "Numba: Attempted to fork from a non-main thread, the TBB library may be in an invalid state in the child process.\n",
      "Numba: Attempted to fork from a non-main thread, the TBB library may be in an invalid state in the child process.\n",
      "Numba: Attempted to fork from a non-main thread, the TBB library may be in an invalid state in the child process.\n",
      "Numba: Attempted to fork from a non-main thread, the TBB library may be in an invalid state in the child process.\n",
      "Numba: Attempted to fork from a non-main thread, the TBB library may be in an invalid state in the child process.\n",
      "Numba: Attempted to fork from a non-main thread, the TBB library may be in an invalid state in the child process.\n",
      "Numba: Attempted to fork from a non-main thread, the TBB library may be in an invalid state in the child process.\n",
      "Numba: Attempted to fork from a non-main thread, the TBB library may be in an invalid state in the child process.\n",
      "Numba: Attempted to fork from a non-main thread, the TBB library may be in an invalid state in the child process.\n",
      "Numba: Attempted to fork from a non-main thread, the TBB library may be in an invalid state in the child process.\n",
      "Numba: Attempted to fork from a non-main thread, the TBB library may be in an invalid state in the child process.\n"
     ]
    },
    {
     "name": "stdout",
     "output_type": "stream",
     "text": [
      "Loading data into memory...\n",
      "Building dask graph...\n",
      "Computing dask graph...\n",
      "Closing client...\n",
      "Saving file in ../temp_data/intermediate_networks/net.9.csv.gz\n"
     ]
    }
   ],
   "source": [
    "save = True\n",
    "all_edges = [] # list for intermediate networks\n",
    "for i in range(10):\n",
    "    print(i)\n",
    "    # adata_saved = adata_merged.copy()\n",
    "    \n",
    "    grn = build.grnBuilder(adata=adata_merged, \n",
    "                           ngenes=-1, \n",
    "                           nneighbors=100,\n",
    "                           npcs=10,\n",
    "                           subsample_perc=0.7,\n",
    "                           prefix=f\"net.{i}\",\n",
    "                           outdir='../temp_data/intermediate_networks/',\n",
    "                           ncore=12,\n",
    "                           mem_per_core=int(2e9),\n",
    "                           verbose=True)\n",
    "    grn.subsample_cells()\n",
    "\n",
    "    grn.filter_genes()\n",
    "    grn.filter_gene_connectivities()\n",
    "    grn.build_grn()\n",
    "    if save:\n",
    "        grn.save_edges()\n",
    "    # append intermediate network\n",
    "    all_edges.append(grn.edges)"
   ]
  },
  {
   "cell_type": "markdown",
   "id": "aac63b43",
   "metadata": {},
   "source": [
    "# Merge Intermediate Networks\n",
    "This step combines the bootstrapped networks and filters inconsistent and confounding edges. The `NetworkMerger` class contains the following arguments:\n",
    "- `adata`: supercells adata object\n",
    "- `networks`: list(pd.DataFrame) of intermediate networks\n",
    "- `minimum_edge_appearance_threshold`: consistency threshold for an edge to be kept in the final network. (0.2 means an edge must be in at least 20% of the intermediate networks)\n",
    "- `prefix`: output prefix\n",
    "- `outdir`: output directory (the final network will be saved as `{outdir}/{prefix}.network.merged.csv`)\n",
    "- `ncore`: number of cores for multiprocessing\n",
    "- `mem_per_core`: memory per core"
   ]
  },
  {
   "cell_type": "code",
   "execution_count": 9,
   "id": "09efd722",
   "metadata": {},
   "outputs": [],
   "source": [
    "merger = merge.NetworkMerger(adata=adata_merged,\n",
    "                             networks=all_edges,\n",
    "                             minimum_edge_appearance_threshold=0.2,\n",
    "                             prefix='final',\n",
    "                             outdir='../temp_data/final_network',\n",
    "                             ncore=12,\n",
    "                             mem_per_core=int(2e9),\n",
    "                             verbose=True)"
   ]
  },
  {
   "cell_type": "code",
   "execution_count": 10,
   "id": "088b43c5",
   "metadata": {},
   "outputs": [
    {
     "name": "stdout",
     "output_type": "stream",
     "text": [
      "Preprocessing in network files...\n",
      "Summarizing networks...\n",
      "Removing bidirectional edges...\n",
      "Removing cycles...\n",
      "Getting triads to remove redundant edges...\n",
      "Removing redundant edges...\n"
     ]
    },
    {
     "name": "stderr",
     "output_type": "stream",
     "text": [
      "Numba: Attempted to fork from a non-main thread, the TBB library may be in an invalid state in the child process.\n",
      "Numba: Attempted to fork from a non-main thread, the TBB library may be in an invalid state in the child process.\n",
      "Numba: Attempted to fork from a non-main thread, the TBB library may be in an invalid state in the child process.\n",
      "Numba: Attempted to fork from a non-main thread, the TBB library may be in an invalid state in the child process.\n",
      "Numba: Attempted to fork from a non-main thread, the TBB library may be in an invalid state in the child process.\n",
      "Numba: Attempted to fork from a non-main thread, the TBB library may be in an invalid state in the child process.\n",
      "Numba: Attempted to fork from a non-main thread, the TBB library may be in an invalid state in the child process.\n",
      "Numba: Attempted to fork from a non-main thread, the TBB library may be in an invalid state in the child process.\n",
      "Numba: Attempted to fork from a non-main thread, the TBB library may be in an invalid state in the child process.\n",
      "Numba: Attempted to fork from a non-main thread, the TBB library may be in an invalid state in the child process.\n",
      "Numba: Attempted to fork from a non-main thread, the TBB library may be in an invalid state in the child process.\n",
      "Numba: Attempted to fork from a non-main thread, the TBB library may be in an invalid state in the child process.\n"
     ]
    },
    {
     "name": "stdout",
     "output_type": "stream",
     "text": [
      "Creating client...\n",
      "Loading data...\n",
      "Building dask graph...\n",
      "Computing dask graph...\n",
      "Removing edges...\n"
     ]
    }
   ],
   "source": [
    "merger.preprocess_network_files()\n",
    "merger.remove_reversed_edges()\n",
    "merger.remove_cycles()\n",
    "merger.get_triads()\n",
    "merger.remove_redundant_edges()"
   ]
  },
  {
   "cell_type": "code",
   "execution_count": 11,
   "id": "247dc079",
   "metadata": {},
   "outputs": [
    {
     "name": "stdout",
     "output_type": "stream",
     "text": [
      "Saving data to ../temp_data/final_network/\n"
     ]
    }
   ],
   "source": [
    "merger.save_network()"
   ]
  },
  {
   "cell_type": "code",
   "execution_count": 12,
   "id": "f95e55e2",
   "metadata": {},
   "outputs": [
    {
     "data": {
      "text/html": [
       "<div>\n",
       "<style scoped>\n",
       "    .dataframe tbody tr th:only-of-type {\n",
       "        vertical-align: middle;\n",
       "    }\n",
       "\n",
       "    .dataframe tbody tr th {\n",
       "        vertical-align: top;\n",
       "    }\n",
       "\n",
       "    .dataframe thead th {\n",
       "        text-align: right;\n",
       "    }\n",
       "</style>\n",
       "<table border=\"1\" class=\"dataframe\">\n",
       "  <thead>\n",
       "    <tr style=\"text-align: right;\">\n",
       "      <th></th>\n",
       "      <th>source</th>\n",
       "      <th>target</th>\n",
       "      <th>importance</th>\n",
       "    </tr>\n",
       "  </thead>\n",
       "  <tbody>\n",
       "    <tr>\n",
       "      <th>10</th>\n",
       "      <td>AC091551.1</td>\n",
       "      <td>MAGEF1</td>\n",
       "      <td>266.259045</td>\n",
       "    </tr>\n",
       "    <tr>\n",
       "      <th>1511</th>\n",
       "      <td>STAC3</td>\n",
       "      <td>MRPS30</td>\n",
       "      <td>243.979339</td>\n",
       "    </tr>\n",
       "    <tr>\n",
       "      <th>800</th>\n",
       "      <td>TSPAN31</td>\n",
       "      <td>ADCY10</td>\n",
       "      <td>215.426775</td>\n",
       "    </tr>\n",
       "    <tr>\n",
       "      <th>1681</th>\n",
       "      <td>AC073861.1</td>\n",
       "      <td>RPL32</td>\n",
       "      <td>207.363622</td>\n",
       "    </tr>\n",
       "    <tr>\n",
       "      <th>444</th>\n",
       "      <td>RPL32</td>\n",
       "      <td>RPL23</td>\n",
       "      <td>204.892652</td>\n",
       "    </tr>\n",
       "    <tr>\n",
       "      <th>...</th>\n",
       "      <td>...</td>\n",
       "      <td>...</td>\n",
       "      <td>...</td>\n",
       "    </tr>\n",
       "    <tr>\n",
       "      <th>10293</th>\n",
       "      <td>RASL10A</td>\n",
       "      <td>ADRB2</td>\n",
       "      <td>11.377648</td>\n",
       "    </tr>\n",
       "    <tr>\n",
       "      <th>743</th>\n",
       "      <td>TTPAL</td>\n",
       "      <td>CANT1</td>\n",
       "      <td>11.372547</td>\n",
       "    </tr>\n",
       "    <tr>\n",
       "      <th>9273</th>\n",
       "      <td>PTPRJ</td>\n",
       "      <td>AKAP13</td>\n",
       "      <td>11.363624</td>\n",
       "    </tr>\n",
       "    <tr>\n",
       "      <th>10532</th>\n",
       "      <td>ZRANB1</td>\n",
       "      <td>FAM111A</td>\n",
       "      <td>11.272955</td>\n",
       "    </tr>\n",
       "    <tr>\n",
       "      <th>7043</th>\n",
       "      <td>CCNY</td>\n",
       "      <td>CELF1</td>\n",
       "      <td>11.238533</td>\n",
       "    </tr>\n",
       "  </tbody>\n",
       "</table>\n",
       "<p>7949 rows × 3 columns</p>\n",
       "</div>"
      ],
      "text/plain": [
       "           source   target  importance\n",
       "10     AC091551.1   MAGEF1  266.259045\n",
       "1511        STAC3   MRPS30  243.979339\n",
       "800       TSPAN31   ADCY10  215.426775\n",
       "1681   AC073861.1    RPL32  207.363622\n",
       "444         RPL32    RPL23  204.892652\n",
       "...           ...      ...         ...\n",
       "10293     RASL10A    ADRB2   11.377648\n",
       "743         TTPAL    CANT1   11.372547\n",
       "9273        PTPRJ   AKAP13   11.363624\n",
       "10532      ZRANB1  FAM111A   11.272955\n",
       "7043         CCNY    CELF1   11.238533\n",
       "\n",
       "[7949 rows x 3 columns]"
      ]
     },
     "execution_count": 12,
     "metadata": {},
     "output_type": "execute_result"
    }
   ],
   "source": [
    "merger.edge_df.sort_values(by='importance',\n",
    "                          ascending=False)"
   ]
  },
  {
   "cell_type": "code",
   "execution_count": null,
   "id": "f0105700",
   "metadata": {},
   "outputs": [],
   "source": []
  },
  {
   "cell_type": "code",
   "execution_count": null,
   "id": "81617803",
   "metadata": {},
   "outputs": [],
   "source": []
  }
 ],
 "metadata": {
  "kernelspec": {
   "display_name": "Python 3 (ipykernel)",
   "language": "python",
   "name": "python3"
  },
  "language_info": {
   "codemirror_mode": {
    "name": "ipython",
    "version": 3
   },
   "file_extension": ".py",
   "mimetype": "text/x-python",
   "name": "python",
   "nbconvert_exporter": "python",
   "pygments_lexer": "ipython3",
   "version": "3.9.13"
  }
 },
 "nbformat": 4,
 "nbformat_minor": 5
}

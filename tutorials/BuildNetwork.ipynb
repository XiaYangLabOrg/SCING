{
 "cells": [
  {
   "cell_type": "code",
   "execution_count": 1,
   "id": "b9c60f6c",
   "metadata": {},
   "outputs": [],
   "source": [
    "# Set number of threads to use\n",
    "import os\n",
    "nthreads = 12\n",
    "os.environ[\"MKL_NUM_THREADS\"] = str(nthreads)\n",
    "os.environ[\"NUMEXPR_NUM_THREADS\"] = str(nthreads)\n",
    "os.environ[\"OMP_NUM_THREADS\"] = str(nthreads)\n",
    "\n",
    "import warnings\n",
    "warnings.filterwarnings(\"ignore\")"
   ]
  },
  {
   "cell_type": "code",
   "execution_count": 2,
   "id": "ad33c440",
   "metadata": {},
   "outputs": [],
   "source": [
    "import sys\n",
    "sys.path.insert(1,'../src/')"
   ]
  },
  {
   "cell_type": "code",
   "execution_count": 3,
   "id": "a1942ca7",
   "metadata": {},
   "outputs": [],
   "source": [
    "from supercellHelpers import *\n",
    "from buildGRNHelpers import *\n",
    "from MergeNetworksHelpers import *"
   ]
  },
  {
   "cell_type": "code",
   "execution_count": 4,
   "id": "8c794ceb",
   "metadata": {},
   "outputs": [],
   "source": [
    "#adata = sc.read('../data/microglia.h5ad')"
   ]
  },
  {
   "cell_type": "code",
   "execution_count": null,
   "id": "a8e151dc",
   "metadata": {},
   "outputs": [],
   "source": []
  },
  {
   "cell_type": "code",
   "execution_count": 5,
   "id": "5e0fb002",
   "metadata": {},
   "outputs": [],
   "source": [
    "#adata"
   ]
  },
  {
   "cell_type": "code",
   "execution_count": 6,
   "id": "c9343ed1",
   "metadata": {},
   "outputs": [],
   "source": [
    "#adata_merged = supercell_pipeline(adata,\n",
    "#                                  ngenes=2000,\n",
    "#                                  npcs=20,\n",
    "#                                  ncell=500,\n",
    "#                                  verbose=True)"
   ]
  },
  {
   "cell_type": "code",
   "execution_count": 7,
   "id": "e73bda73",
   "metadata": {},
   "outputs": [],
   "source": [
    "adata_merged = sc.read('../temp_data/merged_adata.h5ad')\n",
    "\n",
    "# limit genes to 2000 random genes\n",
    "# this is to speed up computation for the example\n",
    "np.random.seed(0)\n",
    "adata_merged = adata_merged[:,np.random.choice(np.arange(adata_merged.shape[1]),\n",
    "                                       2000,\n",
    "                                       replace=False)]"
   ]
  },
  {
   "cell_type": "code",
   "execution_count": 8,
   "id": "4cbfdd68",
   "metadata": {},
   "outputs": [
    {
     "data": {
      "text/plain": [
       "View of AnnData object with n_obs × n_vars = 503 × 2000\n",
       "    var: 'gene_ids', 'feature_types', 'genome', 'highly_variable', 'means', 'dispersions', 'dispersions_norm'"
      ]
     },
     "execution_count": 8,
     "metadata": {},
     "output_type": "execute_result"
    }
   ],
   "source": [
    "adata_merged"
   ]
  },
  {
   "cell_type": "code",
   "execution_count": null,
   "id": "075062f2",
   "metadata": {},
   "outputs": [],
   "source": []
  },
  {
   "cell_type": "code",
   "execution_count": null,
   "id": "b227b928",
   "metadata": {},
   "outputs": [
    {
     "name": "stdout",
     "output_type": "stream",
     "text": [
      "0\n",
      "building local cluster\n",
      "Loading data into memory...\n",
      "Building dask graph...\n",
      "Computing dask graph...\n",
      "Closing client...\n",
      "1\n",
      "building local cluster\n",
      "Loading data into memory...\n",
      "Building dask graph...\n",
      "Computing dask graph...\n"
     ]
    },
    {
     "name": "stderr",
     "output_type": "stream",
     "text": [
      "Exception in thread Profile:\n",
      "Traceback (most recent call last):\n",
      "  File \"/u/home/r/rlittman/project-rlittman/miniconda3/envs/scing/lib/python3.10/site-packages/distributed/profile.py\", line 115, in process\n",
      "    d = state[\"children\"][ident]\n",
      "KeyError: 'indentcount_lines;/u/home/r/rlittman/project-rlittman/miniconda3/envs/scing/lib/python3.10/site-packages/scipy/_lib/doccer.py;177'\n",
      "\n",
      "During handling of the above exception, another exception occurred:\n",
      "\n",
      "Traceback (most recent call last):\n",
      "  File \"/u/home/r/rlittman/project-rlittman/miniconda3/envs/scing/lib/python3.10/threading.py\", line 1016, in _bootstrap_inner\n",
      "    self.run()\n",
      "  File \"/u/home/r/rlittman/project-rlittman/miniconda3/envs/scing/lib/python3.10/threading.py\", line 953, in run\n",
      "    self._target(*self._args, **self._kwargs)\n",
      "  File \"/u/home/r/rlittman/project-rlittman/miniconda3/envs/scing/lib/python3.10/site-packages/distributed/profile.py\", line 274, in _watch\n",
      "    process(frame, None, recent, omit=omit)\n",
      "  File \"/u/home/r/rlittman/project-rlittman/miniconda3/envs/scing/lib/python3.10/site-packages/distributed/profile.py\", line 119, in process\n",
      "    \"description\": info_frame(frame),\n",
      "  File \"/u/home/r/rlittman/project-rlittman/miniconda3/envs/scing/lib/python3.10/site-packages/distributed/profile.py\", line 72, in info_frame\n",
      "    line = linecache.getline(co.co_filename, frame.f_lineno, frame.f_globals).lstrip()\n",
      "  File \"/u/home/r/rlittman/project-rlittman/miniconda3/envs/scing/lib/python3.10/linecache.py\", line 31, in getline\n",
      "    if 1 <= lineno <= len(lines):\n",
      "TypeError: '<=' not supported between instances of 'int' and 'NoneType'\n",
      "Exception in thread Profile:\n",
      "Traceback (most recent call last):\n",
      "  File \"/u/home/r/rlittman/project-rlittman/miniconda3/envs/scing/lib/python3.10/site-packages/distributed/profile.py\", line 115, in process\n",
      "    d = state[\"children\"][ident]\n",
      "KeyError: 'cleandoc;/u/home/r/rlittman/project-rlittman/miniconda3/envs/scing/lib/python3.10/inspect.py;744'\n",
      "\n",
      "During handling of the above exception, another exception occurred:\n",
      "\n",
      "Traceback (most recent call last):\n",
      "  File \"/u/home/r/rlittman/project-rlittman/miniconda3/envs/scing/lib/python3.10/threading.py\", line 1016, in _bootstrap_inner\n",
      "    self.run()\n",
      "  File \"/u/home/r/rlittman/project-rlittman/miniconda3/envs/scing/lib/python3.10/threading.py\", line 953, in run\n",
      "    self._target(*self._args, **self._kwargs)\n",
      "  File \"/u/home/r/rlittman/project-rlittman/miniconda3/envs/scing/lib/python3.10/site-packages/distributed/profile.py\", line 274, in _watch\n",
      "    process(frame, None, recent, omit=omit)\n",
      "  File \"/u/home/r/rlittman/project-rlittman/miniconda3/envs/scing/lib/python3.10/site-packages/distributed/profile.py\", line 119, in process\n",
      "    \"description\": info_frame(frame),\n",
      "  File \"/u/home/r/rlittman/project-rlittman/miniconda3/envs/scing/lib/python3.10/site-packages/distributed/profile.py\", line 72, in info_frame\n",
      "    line = linecache.getline(co.co_filename, frame.f_lineno, frame.f_globals).lstrip()\n",
      "  File \"/u/home/r/rlittman/project-rlittman/miniconda3/envs/scing/lib/python3.10/linecache.py\", line 31, in getline\n",
      "    if 1 <= lineno <= len(lines):\n",
      "TypeError: '<=' not supported between instances of 'int' and 'NoneType'\n"
     ]
    },
    {
     "name": "stdout",
     "output_type": "stream",
     "text": [
      "Closing client...\n",
      "2\n",
      "building local cluster\n",
      "Loading data into memory...\n",
      "Building dask graph...\n",
      "Computing dask graph...\n"
     ]
    },
    {
     "name": "stderr",
     "output_type": "stream",
     "text": [
      "Exception in thread Profile:\n",
      "Traceback (most recent call last):\n",
      "  File \"/u/home/r/rlittman/project-rlittman/miniconda3/envs/scing/lib/python3.10/site-packages/distributed/profile.py\", line 115, in process\n",
      "    d = state[\"children\"][ident]\n",
      "KeyError: 'indentcount_lines;/u/home/r/rlittman/project-rlittman/miniconda3/envs/scing/lib/python3.10/site-packages/scipy/_lib/doccer.py;177'\n",
      "\n",
      "During handling of the above exception, another exception occurred:\n",
      "\n",
      "Traceback (most recent call last):\n",
      "  File \"/u/home/r/rlittman/project-rlittman/miniconda3/envs/scing/lib/python3.10/threading.py\", line 1016, in _bootstrap_inner\n",
      "    self.run()\n",
      "  File \"/u/home/r/rlittman/project-rlittman/miniconda3/envs/scing/lib/python3.10/threading.py\", line 953, in run\n",
      "Exception in thread Profile:\n",
      "Traceback (most recent call last):\n",
      "  File \"/u/home/r/rlittman/project-rlittman/miniconda3/envs/scing/lib/python3.10/site-packages/distributed/profile.py\", line 115, in process\n",
      "    self._target(*self._args, **self._kwargs)\n",
      "  File \"/u/home/r/rlittman/project-rlittman/miniconda3/envs/scing/lib/python3.10/site-packages/distributed/profile.py\", line 274, in _watch\n",
      "    process(frame, None, recent, omit=omit)\n",
      "  File \"/u/home/r/rlittman/project-rlittman/miniconda3/envs/scing/lib/python3.10/site-packages/distributed/profile.py\", line 119, in process\n",
      "    \"description\": info_frame(frame),\n",
      "  File \"/u/home/r/rlittman/project-rlittman/miniconda3/envs/scing/lib/python3.10/site-packages/distributed/profile.py\", line 72, in info_frame\n",
      "    line = linecache.getline(co.co_filename, frame.f_lineno, frame.f_globals).lstrip()\n",
      "  File \"/u/home/r/rlittman/project-rlittman/miniconda3/envs/scing/lib/python3.10/linecache.py\", line 31, in getline\n",
      "    if 1 <= lineno <= len(lines):\n",
      "TypeError: '<=' not supported between instances of 'int' and 'NoneType'\n",
      "    d = state[\"children\"][ident]\n",
      "KeyError: 'indentcount_lines;/u/home/r/rlittman/project-rlittman/miniconda3/envs/scing/lib/python3.10/site-packages/scipy/_lib/doccer.py;177'\n",
      "\n",
      "During handling of the above exception, another exception occurred:\n",
      "\n",
      "Traceback (most recent call last):\n",
      "  File \"/u/home/r/rlittman/project-rlittman/miniconda3/envs/scing/lib/python3.10/threading.py\", line 1016, in _bootstrap_inner\n",
      "    self.run()\n",
      "  File \"/u/home/r/rlittman/project-rlittman/miniconda3/envs/scing/lib/python3.10/threading.py\", line 953, in run\n",
      "    self._target(*self._args, **self._kwargs)\n",
      "  File \"/u/home/r/rlittman/project-rlittman/miniconda3/envs/scing/lib/python3.10/site-packages/distributed/profile.py\", line 274, in _watch\n",
      "    process(frame, None, recent, omit=omit)\n",
      "  File \"/u/home/r/rlittman/project-rlittman/miniconda3/envs/scing/lib/python3.10/site-packages/distributed/profile.py\", line 119, in process\n",
      "    \"description\": info_frame(frame),\n",
      "  File \"/u/home/r/rlittman/project-rlittman/miniconda3/envs/scing/lib/python3.10/site-packages/distributed/profile.py\", line 72, in info_frame\n",
      "    line = linecache.getline(co.co_filename, frame.f_lineno, frame.f_globals).lstrip()\n",
      "  File \"/u/home/r/rlittman/project-rlittman/miniconda3/envs/scing/lib/python3.10/linecache.py\", line 31, in getline\n",
      "    if 1 <= lineno <= len(lines):\n",
      "TypeError: '<=' not supported between instances of 'int' and 'NoneType'\n",
      "Exception in thread Profile:\n",
      "Traceback (most recent call last):\n",
      "  File \"/u/home/r/rlittman/project-rlittman/miniconda3/envs/scing/lib/python3.10/site-packages/distributed/profile.py\", line 115, in process\n",
      "    d = state[\"children\"][ident]\n",
      "KeyError: 'cleandoc;/u/home/r/rlittman/project-rlittman/miniconda3/envs/scing/lib/python3.10/inspect.py;744'\n",
      "\n",
      "During handling of the above exception, another exception occurred:\n",
      "\n",
      "Traceback (most recent call last):\n",
      "  File \"/u/home/r/rlittman/project-rlittman/miniconda3/envs/scing/lib/python3.10/threading.py\", line 1016, in _bootstrap_inner\n",
      "    self.run()\n",
      "  File \"/u/home/r/rlittman/project-rlittman/miniconda3/envs/scing/lib/python3.10/threading.py\", line 953, in run\n",
      "    self._target(*self._args, **self._kwargs)\n",
      "  File \"/u/home/r/rlittman/project-rlittman/miniconda3/envs/scing/lib/python3.10/site-packages/distributed/profile.py\", line 274, in _watch\n",
      "    process(frame, None, recent, omit=omit)\n",
      "  File \"/u/home/r/rlittman/project-rlittman/miniconda3/envs/scing/lib/python3.10/site-packages/distributed/profile.py\", line 119, in process\n",
      "    \"description\": info_frame(frame),\n",
      "  File \"/u/home/r/rlittman/project-rlittman/miniconda3/envs/scing/lib/python3.10/site-packages/distributed/profile.py\", line 72, in info_frame\n",
      "    line = linecache.getline(co.co_filename, frame.f_lineno, frame.f_globals).lstrip()\n",
      "  File \"/u/home/r/rlittman/project-rlittman/miniconda3/envs/scing/lib/python3.10/linecache.py\", line 31, in getline\n",
      "    if 1 <= lineno <= len(lines):\n",
      "TypeError: '<=' not supported between instances of 'int' and 'NoneType'\n"
     ]
    },
    {
     "name": "stdout",
     "output_type": "stream",
     "text": [
      "Closing client...\n",
      "3\n",
      "building local cluster\n"
     ]
    }
   ],
   "source": [
    "all_edges = []\n",
    "for i in range(10):\n",
    "    print(i)\n",
    "    adata_saved = adata_merged.copy()\n",
    "    \n",
    "    # -1 all genes\n",
    "    # 100 neighbors for each gene\n",
    "    # 10 pcs\n",
    "    # 0.7 subsample per run\n",
    "    scing = grnBuilder(adata_merged, -1, 100, 10,0.7,\n",
    "                      'test','test',12,int(2e9),True)\n",
    "    scing.subsample_cells()\n",
    "\n",
    "    scing.filter_genes()\n",
    "    scing.filter_gene_connectivities()\n",
    "    scing.build_grn()\n",
    "    \n",
    "    all_edges.append(scing.edges)"
   ]
  },
  {
   "cell_type": "code",
   "execution_count": null,
   "id": "451d1360",
   "metadata": {},
   "outputs": [],
   "source": [
    "import pickle as pkl\n",
    "with open('../temp_data/edge.pkl','wb') as f:\n",
    "    pkl.dump(all_edges, f)\n",
    "    #all_edges = pkl.load(f)"
   ]
  },
  {
   "cell_type": "code",
   "execution_count": null,
   "id": "69a317e5",
   "metadata": {},
   "outputs": [],
   "source": []
  },
  {
   "cell_type": "code",
   "execution_count": null,
   "id": "09efd722",
   "metadata": {},
   "outputs": [],
   "source": [
    "merger = NetworkMerger(adata_merged,\n",
    "                    all_edges,\n",
    "                       0.2,\n",
    "                    'test',\n",
    "                    'test',\n",
    "                    12,\n",
    "                    int(2e9),\n",
    "                    True)"
   ]
  },
  {
   "cell_type": "code",
   "execution_count": null,
   "id": "088b43c5",
   "metadata": {},
   "outputs": [],
   "source": [
    "merger.preprocess_network_files()\n",
    "merger.remove_reversed_edges()\n",
    "merger.remove_cycles()\n",
    "merger.get_triads()\n",
    "merger.remove_redundant_edges()"
   ]
  },
  {
   "cell_type": "code",
   "execution_count": null,
   "id": "f95e55e2",
   "metadata": {},
   "outputs": [],
   "source": [
    "merger.edge_df.sort_values(by='importance',\n",
    "                          ascending=False)"
   ]
  },
  {
   "cell_type": "code",
   "execution_count": null,
   "id": "d657ac69",
   "metadata": {},
   "outputs": [],
   "source": [
    "all_edges"
   ]
  },
  {
   "cell_type": "code",
   "execution_count": null,
   "id": "f0105700",
   "metadata": {},
   "outputs": [],
   "source": []
  },
  {
   "cell_type": "code",
   "execution_count": null,
   "id": "81617803",
   "metadata": {},
   "outputs": [],
   "source": []
  }
 ],
 "metadata": {
  "kernelspec": {
   "display_name": "Python 3 (ipykernel)",
   "language": "python",
   "name": "python3"
  },
  "language_info": {
   "codemirror_mode": {
    "name": "ipython",
    "version": 3
   },
   "file_extension": ".py",
   "mimetype": "text/x-python",
   "name": "python",
   "nbconvert_exporter": "python",
   "pygments_lexer": "ipython3",
   "version": "3.10.5"
  }
 },
 "nbformat": 4,
 "nbformat_minor": 5
}

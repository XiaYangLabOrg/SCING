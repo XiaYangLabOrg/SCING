{
 "cells": [
  {
   "cell_type": "code",
   "execution_count": 1,
   "metadata": {},
   "outputs": [],
   "source": [
    "# Set number of threads to use\n",
    "import os\n",
    "nthreads = 12\n",
    "os.environ[\"MKL_NUM_THREADS\"] = str(nthreads)\n",
    "os.environ[\"NUMEXPR_NUM_THREADS\"] = str(nthreads)\n",
    "os.environ[\"OMP_NUM_THREADS\"] = str(nthreads)\n",
    "\n",
    "import warnings\n",
    "warnings.filterwarnings(\"ignore\")"
   ]
  },
  {
   "cell_type": "code",
   "execution_count": 2,
   "metadata": {},
   "outputs": [],
   "source": [
    "import sys\n",
    "sys.path.insert(1,'../src/')"
   ]
  },
  {
   "cell_type": "code",
   "execution_count": 3,
   "metadata": {},
   "outputs": [],
   "source": [
    "from supercellHelpers import *\n",
    "from buildGRNHelpers import *\n",
    "from MergeNetworksHelpers import *"
   ]
  },
  {
   "cell_type": "code",
   "execution_count": 4,
   "metadata": {},
   "outputs": [],
   "source": [
    "#adata = sc.read('../data/microglia.h5ad')"
   ]
  },
  {
   "cell_type": "code",
   "execution_count": null,
   "metadata": {},
   "outputs": [],
   "source": []
  },
  {
   "cell_type": "code",
   "execution_count": 5,
   "metadata": {},
   "outputs": [],
   "source": [
    "#adata"
   ]
  },
  {
   "cell_type": "code",
   "execution_count": 6,
   "metadata": {},
   "outputs": [
    {
     "data": {
      "text/plain": [
       "'adata_merged = pipeline(adata,\\n                       ngenes=2000,\\n                       npcs=20,\\n                       ncell=500,\\n                       verbose=True)'"
      ]
     },
     "execution_count": 6,
     "metadata": {},
     "output_type": "execute_result"
    }
   ],
   "source": [
    "\"\"\"adata_merged = pipeline(adata,\n",
    "                       ngenes=2000,\n",
    "                       npcs=20,\n",
    "                       ncell=500,\n",
    "                       verbose=True)\"\"\""
   ]
  },
  {
   "cell_type": "code",
   "execution_count": 7,
   "metadata": {},
   "outputs": [],
   "source": [
    "adata_merged = sc.read('../temp_data/merged_adata.h5ad')\n",
    "\n",
    "# limit genes to 2000 random genes\n",
    "# this is to speed up computation for the example\n",
    "np.random.seed(0)\n",
    "adata_merged = adata_merged[:,np.random.choice(np.arange(adata_merged.shape[1]),\n",
    "                                       2000,\n",
    "                                       replace=False)]"
   ]
  },
  {
   "cell_type": "code",
   "execution_count": 8,
   "metadata": {},
   "outputs": [
    {
     "data": {
      "text/plain": [
       "View of AnnData object with n_obs × n_vars = 503 × 2000\n",
       "    var: 'gene_ids', 'feature_types', 'genome', 'highly_variable', 'means', 'dispersions', 'dispersions_norm'"
      ]
     },
     "execution_count": 8,
     "metadata": {},
     "output_type": "execute_result"
    }
   ],
   "source": [
    "adata_merged"
   ]
  },
  {
   "cell_type": "code",
   "execution_count": null,
   "metadata": {},
   "outputs": [],
   "source": []
  },
  {
   "cell_type": "code",
   "execution_count": 9,
   "metadata": {},
   "outputs": [
    {
     "name": "stdout",
     "output_type": "stream",
     "text": [
      "0\n",
      "building local cluster\n",
      "Loading data into memory...\n",
      "Building dask graph...\n",
      "Computing dask graph...\n",
      "Closing client...\n",
      "1\n",
      "building local cluster\n",
      "Loading data into memory...\n",
      "Building dask graph...\n",
      "Computing dask graph...\n",
      "Closing client...\n",
      "2\n",
      "building local cluster\n",
      "Loading data into memory...\n",
      "Building dask graph...\n",
      "Computing dask graph...\n",
      "Closing client...\n",
      "3\n",
      "building local cluster\n",
      "Loading data into memory...\n",
      "Building dask graph...\n",
      "Computing dask graph...\n",
      "Closing client...\n",
      "4\n",
      "building local cluster\n",
      "Loading data into memory...\n",
      "Building dask graph...\n",
      "Computing dask graph...\n",
      "Closing client...\n",
      "5\n",
      "building local cluster\n",
      "Loading data into memory...\n",
      "Building dask graph...\n",
      "Computing dask graph...\n",
      "Closing client...\n",
      "6\n",
      "building local cluster\n",
      "Loading data into memory...\n",
      "Building dask graph...\n",
      "Computing dask graph...\n",
      "Closing client...\n",
      "7\n",
      "building local cluster\n",
      "Loading data into memory...\n",
      "Building dask graph...\n",
      "Computing dask graph...\n",
      "Closing client...\n",
      "8\n",
      "building local cluster\n",
      "Loading data into memory...\n",
      "Building dask graph...\n",
      "Computing dask graph...\n",
      "Closing client...\n",
      "9\n",
      "building local cluster\n",
      "Loading data into memory...\n",
      "Building dask graph...\n",
      "Computing dask graph...\n",
      "Closing client...\n"
     ]
    }
   ],
   "source": [
    "all_edges = []\n",
    "for i in range(10):\n",
    "    print(i)\n",
    "    adata_saved = adata_merged.copy()\n",
    "    \n",
    "    # -1 all genes\n",
    "    # 100 neighbors for each gene\n",
    "    # 10 pcs\n",
    "    # 0.7 subsample per run\n",
    "    scing = grnBuilder(adata_merged, -1, 100, 10,0.7,\n",
    "                      'test','test',12,int(2e9),True)\n",
    "    scing.subsample_cells()\n",
    "\n",
    "    scing.filter_genes()\n",
    "    scing.filter_gene_connectivities()\n",
    "    scing.build_grn()\n",
    "    \n",
    "    all_edges.append(scing.edges)"
   ]
  },
  {
   "cell_type": "code",
   "execution_count": 10,
   "metadata": {},
   "outputs": [],
   "source": [
    "import pickle as pkl\n",
    "with open('../temp_data/edge.pkl','wb') as f:\n",
    "    pkl.dump(all_edges, f)\n",
    "    #all_edges = pkl.load(f)"
   ]
  },
  {
   "cell_type": "code",
   "execution_count": null,
   "metadata": {},
   "outputs": [],
   "source": []
  },
  {
   "cell_type": "code",
   "execution_count": 11,
   "metadata": {},
   "outputs": [],
   "source": [
    "merger = NetworkMerger(adata_merged,\n",
    "                    all_edges,\n",
    "                       0.2,\n",
    "                    'test',\n",
    "                    'test',\n",
    "                    12,\n",
    "                    int(2e9),\n",
    "                    True)"
   ]
  },
  {
   "cell_type": "code",
   "execution_count": 12,
   "metadata": {},
   "outputs": [
    {
     "name": "stdout",
     "output_type": "stream",
     "text": [
      "Preprocessing in network files...\n",
      "Summarizing networks...\n",
      "Removing bidirectional edges...\n",
      "Removing cycles...\n",
      "Getting triads to remove redundant edges...\n",
      "Removing redundant edges...\n",
      "Creating client...\n",
      "Loading data...\n",
      "Building dask graph...\n",
      "Closing client...\n",
      "Removing edges...\n"
     ]
    }
   ],
   "source": [
    "merger.preprocess_network_files()\n",
    "merger.remove_reversed_edges()\n",
    "merger.remove_cycles()\n",
    "merger.get_triads()\n",
    "merger.remove_redundant_edges()"
   ]
  },
  {
   "cell_type": "code",
   "execution_count": 17,
   "metadata": {},
   "outputs": [
    {
     "data": {
      "text/html": [
       "<div>\n",
       "<style scoped>\n",
       "    .dataframe tbody tr th:only-of-type {\n",
       "        vertical-align: middle;\n",
       "    }\n",
       "\n",
       "    .dataframe tbody tr th {\n",
       "        vertical-align: top;\n",
       "    }\n",
       "\n",
       "    .dataframe thead th {\n",
       "        text-align: right;\n",
       "    }\n",
       "</style>\n",
       "<table border=\"1\" class=\"dataframe\">\n",
       "  <thead>\n",
       "    <tr style=\"text-align: right;\">\n",
       "      <th></th>\n",
       "      <th>source</th>\n",
       "      <th>target</th>\n",
       "      <th>importance</th>\n",
       "    </tr>\n",
       "  </thead>\n",
       "  <tbody>\n",
       "    <tr>\n",
       "      <th>319</th>\n",
       "      <td>AC011444.1</td>\n",
       "      <td>AC099343.3</td>\n",
       "      <td>378.428711</td>\n",
       "    </tr>\n",
       "    <tr>\n",
       "      <th>27</th>\n",
       "      <td>AC096711.2</td>\n",
       "      <td>ARHGEF16</td>\n",
       "      <td>376.240692</td>\n",
       "    </tr>\n",
       "    <tr>\n",
       "      <th>394</th>\n",
       "      <td>MT-ATP6</td>\n",
       "      <td>MT-ND2</td>\n",
       "      <td>363.492862</td>\n",
       "    </tr>\n",
       "    <tr>\n",
       "      <th>4623</th>\n",
       "      <td>C18orf21</td>\n",
       "      <td>PSMB9</td>\n",
       "      <td>361.331336</td>\n",
       "    </tr>\n",
       "    <tr>\n",
       "      <th>11269</th>\n",
       "      <td>MT-ND2</td>\n",
       "      <td>MT-ATP6</td>\n",
       "      <td>330.889865</td>\n",
       "    </tr>\n",
       "    <tr>\n",
       "      <th>...</th>\n",
       "      <td>...</td>\n",
       "      <td>...</td>\n",
       "      <td>...</td>\n",
       "    </tr>\n",
       "    <tr>\n",
       "      <th>9540</th>\n",
       "      <td>TRPT1</td>\n",
       "      <td>SRRM3</td>\n",
       "      <td>11.391193</td>\n",
       "    </tr>\n",
       "    <tr>\n",
       "      <th>7255</th>\n",
       "      <td>SLITRK2</td>\n",
       "      <td>RGCC</td>\n",
       "      <td>11.365703</td>\n",
       "    </tr>\n",
       "    <tr>\n",
       "      <th>3480</th>\n",
       "      <td>FAM177A1</td>\n",
       "      <td>FANCL</td>\n",
       "      <td>11.279903</td>\n",
       "    </tr>\n",
       "    <tr>\n",
       "      <th>9851</th>\n",
       "      <td>CARHSP1</td>\n",
       "      <td>MT-ND2</td>\n",
       "      <td>10.889385</td>\n",
       "    </tr>\n",
       "    <tr>\n",
       "      <th>245</th>\n",
       "      <td>TPRKB</td>\n",
       "      <td>LMAN2</td>\n",
       "      <td>8.184428</td>\n",
       "    </tr>\n",
       "  </tbody>\n",
       "</table>\n",
       "<p>12087 rows × 3 columns</p>\n",
       "</div>"
      ],
      "text/plain": [
       "           source      target  importance\n",
       "319    AC011444.1  AC099343.3  378.428711\n",
       "27     AC096711.2    ARHGEF16  376.240692\n",
       "394       MT-ATP6      MT-ND2  363.492862\n",
       "4623     C18orf21       PSMB9  361.331336\n",
       "11269      MT-ND2     MT-ATP6  330.889865\n",
       "...           ...         ...         ...\n",
       "9540        TRPT1       SRRM3   11.391193\n",
       "7255      SLITRK2        RGCC   11.365703\n",
       "3480     FAM177A1       FANCL   11.279903\n",
       "9851      CARHSP1      MT-ND2   10.889385\n",
       "245         TPRKB       LMAN2    8.184428\n",
       "\n",
       "[12087 rows x 3 columns]"
      ]
     },
     "execution_count": 17,
     "metadata": {},
     "output_type": "execute_result"
    }
   ],
   "source": [
    "merger.edge_df.sort_values(by='importance',\n",
    "                          ascending=False)"
   ]
  },
  {
   "cell_type": "code",
   "execution_count": null,
   "metadata": {},
   "outputs": [],
   "source": []
  },
  {
   "cell_type": "code",
   "execution_count": null,
   "metadata": {},
   "outputs": [],
   "source": []
  }
 ],
 "metadata": {
  "kernelspec": {
   "display_name": "Python 3",
   "language": "python",
   "name": "python3"
  },
  "language_info": {
   "codemirror_mode": {
    "name": "ipython",
    "version": 3
   },
   "file_extension": ".py",
   "mimetype": "text/x-python",
   "name": "python",
   "nbconvert_exporter": "python",
   "pygments_lexer": "ipython3",
   "version": "3.8.5"
  }
 },
 "nbformat": 4,
 "nbformat_minor": 5
}
